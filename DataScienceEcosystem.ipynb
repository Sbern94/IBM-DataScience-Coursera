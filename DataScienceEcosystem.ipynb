{
 "cells": [
  {
   "cell_type": "markdown",
   "id": "06c05c2c-b7d6-4b12-94d6-a249ad053ded",
   "metadata": {
    "tags": []
   },
   "source": [
    "# Data Science Tools and Ecosystem"
   ]
  },
  {
   "cell_type": "markdown",
   "id": "ac4c9c93-33c1-4875-832b-eb018eacf67b",
   "metadata": {},
   "source": [
    "In this notebook, Data Science Tools and Ecosystem are summarized."
   ]
  },
  {
   "cell_type": "markdown",
   "id": "469c8a80-0954-4922-a17b-179a472e6c2b",
   "metadata": {},
   "source": [
    "*Objectives:*\n",
    "- List popular languages\n",
    "- List commoly used libraries\n",
    "- Data Science Tool\n",
    "- Arithmetic expression"
   ]
  },
  {
   "cell_type": "markdown",
   "id": "62f5f03e-5b20-4b2d-bcd3-dc94d8db5e4e",
   "metadata": {},
   "source": [
    "Some of the popular languages that Data Scientists use are:\n",
    "1. Python\n",
    "2. R\n",
    "3. Julia"
   ]
  },
  {
   "cell_type": "markdown",
   "id": "8475d954-acce-43c8-b4b3-73d895f004e9",
   "metadata": {},
   "source": [
    "Some of the commonly used libraries used by Data Scientists include:\n",
    "1. Panda\n",
    "2. Numpy\n",
    "3. SciPy"
   ]
  },
  {
   "cell_type": "markdown",
   "id": "88dd4031-29fc-4e82-b873-9256f45163eb",
   "metadata": {},
   "source": [
    "|Data Science Tool|\n",
    "| -----|\n",
    "|Anaconda|\n",
    "|Jupyter Notebook|\n",
    "|Rstudio|"
   ]
  },
  {
   "cell_type": "markdown",
   "id": "8f649494-30a8-48e0-b485-9e0824f81b24",
   "metadata": {},
   "source": [
    "### Below are a few examples of evaluating arithmetic expressions in Python"
   ]
  },
  {
   "cell_type": "code",
   "execution_count": 1,
   "id": "2e6e5ce0-ff57-47ad-b7ab-72eacd4d6cf5",
   "metadata": {
    "tags": []
   },
   "outputs": [
    {
     "data": {
      "text/plain": [
       "17"
      ]
     },
     "execution_count": 1,
     "metadata": {},
     "output_type": "execute_result"
    }
   ],
   "source": [
    "# This a simple arithmetic expression to mutiply then add integers.\n",
    "(3*4)+5"
   ]
  },
  {
   "cell_type": "code",
   "execution_count": 3,
   "id": "38ca848d-4b84-4fa5-912f-77c966525015",
   "metadata": {
    "tags": []
   },
   "outputs": [
    {
     "data": {
      "text/plain": [
       "3.3333333333333335"
      ]
     },
     "execution_count": 3,
     "metadata": {},
     "output_type": "execute_result"
    }
   ],
   "source": [
    "# This will convert 200 minutes to hours by dividing by 60\n",
    "200/60"
   ]
  },
  {
   "cell_type": "markdown",
   "id": "a8c778e6-f187-45e1-bc22-3a989e340a8a",
   "metadata": {},
   "source": [
    "## Author\n",
    "Bernardo Pistella"
   ]
  },
  {
   "cell_type": "code",
   "execution_count": null,
   "id": "d834362d-246c-4497-a679-a6d8aa40d952",
   "metadata": {},
   "outputs": [],
   "source": []
  }
 ],
 "metadata": {
  "kernelspec": {
   "display_name": "Python",
   "language": "python",
   "name": "conda-env-python-py"
  },
  "language_info": {
   "codemirror_mode": {
    "name": "ipython",
    "version": 3
   },
   "file_extension": ".py",
   "mimetype": "text/x-python",
   "name": "python",
   "nbconvert_exporter": "python",
   "pygments_lexer": "ipython3",
   "version": "3.7.12"
  }
 },
 "nbformat": 4,
 "nbformat_minor": 5
}
